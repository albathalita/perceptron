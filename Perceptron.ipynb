{
  "nbformat": 4,
  "nbformat_minor": 0,
  "metadata": {
    "colab": {
      "name": "Perceptron.ipynb",
      "provenance": [],
      "collapsed_sections": []
    },
    "kernelspec": {
      "name": "python3",
      "display_name": "Python 3"
    }
  },
  "cells": [
    {
      "cell_type": "markdown",
      "metadata": {
        "id": "pE-TKkKDGbGV"
      },
      "source": [
        "Verificar se o ser vivo é quadrúpede ou bípede.\r\n",
        "\r\n",
        "- Qudrúpede = 1\r\n",
        "- Bípede = -1\r\n",
        "- Pesos = [0, 0, 0, 0]\r\n",
        "- θ = 1\r\n",
        "- Taxa de aprendizagem = 1\r\n",
        "\r\n",
        "Fonte: [Perceptrons](https://www.dca.ufrn.br/~lmarcos/courses/robotica/notes/perceptrons.pdf)"
      ]
    },
    {
      "cell_type": "code",
      "metadata": {
        "id": "nlpJWOUfl49g"
      },
      "source": [
        "import numpy as np"
      ],
      "execution_count": 1,
      "outputs": []
    },
    {
      "cell_type": "code",
      "metadata": {
        "id": "PrS0ll53mvzB"
      },
      "source": [
        "# Dados iniciais\r\n",
        "# Base de dados\r\n",
        "\r\n",
        "# Classe 1 = Quadrúpede\r\n",
        "Cao = np.array([1, -1, 1, 1])\r\n",
        "# Classe -1 = Bípede\r\n",
        "Homem = np.array([-1, -1, -1, 1])\r\n",
        "\r\n",
        "# Pesos iniciais\r\n",
        "Pesos = np.array([0, 0, 0, 0])\r\n",
        "\r\n",
        "# Taxa de aprendizagem\r\n",
        "eta = 1\r\n",
        "\r\n",
        "# Viés\r\n",
        "bias = 1"
      ],
      "execution_count": 2,
      "outputs": []
    },
    {
      "cell_type": "code",
      "metadata": {
        "id": "pRFyUiCOnbCS"
      },
      "source": [
        "# Funções para a soma ponderada\r\n",
        "# u = x0*w0 +  x1*w1 + x2*w2 -1*θ \r\n",
        "# m = x0*w0 +  x1*w1 + x2*w2\r\n",
        "# u = m -1*θ\r\n",
        "\r\n",
        "def somaPonderada(x,w):\r\n",
        "  bias = 1\r\n",
        "  m = np.multiply(x,w)\r\n",
        "  u = np.sum(m) -1*bias\r\n",
        "  return u"
      ],
      "execution_count": 3,
      "outputs": []
    },
    {
      "cell_type": "code",
      "metadata": {
        "id": "mc6UjnWdpC5S"
      },
      "source": [
        "# Função de ativação\r\n",
        "# Função degrau\r\n",
        "\r\n",
        "def funcaoAtivacao(u):\r\n",
        "  if u >= 0:\r\n",
        "    return 1\r\n",
        "  else:\r\n",
        "    return -1"
      ],
      "execution_count": 4,
      "outputs": []
    },
    {
      "cell_type": "code",
      "metadata": {
        "id": "so7gciTjpbtJ"
      },
      "source": [
        "# Função de saída\r\n",
        "\r\n",
        "def saida(x,w):\r\n",
        "  u= somaPonderada(x,w)\r\n",
        "  return funcaoAtivacao(u)"
      ],
      "execution_count": 5,
      "outputs": []
    },
    {
      "cell_type": "code",
      "metadata": {
        "id": "eEuZwJTMpubM"
      },
      "source": [
        "# Função para ajustes dos pesos\r\n",
        "# Parte cententral do processo de aprendizagem \r\n",
        "# novo wi  →  wi = wi +  η xi (d - y ) \r\n",
        "\r\n",
        "def ajustaPesos(eta, w, x, bias, d, y):\r\n",
        "  e = d-y\r\n",
        "  novoW = w + (eta*x*e)\r\n",
        "  novoB = bias + (eta*(-1)*e)\r\n",
        "  return novoW, novoB"
      ],
      "execution_count": 6,
      "outputs": []
    },
    {
      "cell_type": "markdown",
      "metadata": {
        "id": "oleFXsTpwCes"
      },
      "source": [
        "# Treinamento \r\n",
        "* Realizado manualmente para ilustrar o processo \r\n",
        "* Aprsenta uma entrada e calcula a saída de maneira iterativa "
      ]
    },
    {
      "cell_type": "markdown",
      "metadata": {
        "id": "oRLodDGIwLiW"
      },
      "source": [
        "## Iteração 1"
      ]
    },
    {
      "cell_type": "code",
      "metadata": {
        "colab": {
          "base_uri": "https://localhost:8080/"
        },
        "id": "Ppu3zaXKwS05",
        "outputId": "d4356b3c-a361-48b3-d74a-09ec67115ebf"
      },
      "source": [
        "# Entrada Cao saída +1\r\n",
        "d = 1 \r\n",
        "y = saida(Cao,Pesos) \r\n",
        "print('Saída = ',y)\r\n",
        "# Ajuste dos pesos \r\n",
        "Pesos,bias = ajustaPesos(eta,Pesos,Cao,bias,d,y) \r\n",
        "print('Pesos = ',Pesos)\r\n",
        "print('Bias = ',bias) \r\n",
        "\r\n",
        "print(f'\\n')\r\n",
        "\r\n",
        "# Entrada Homem saída -1\r\n",
        "d = -1 \r\n",
        "y = saida(Homem,Pesos) \r\n",
        "print('Saída = ',y)\r\n",
        "# Ajuste dos pesos \r\n",
        "Pesos,bias = ajustaPesos(eta,Pesos,Homem,bias,d,y) \r\n",
        "print('Pesos = ',Pesos)\r\n",
        "print('Bias = ',bias) "
      ],
      "execution_count": 7,
      "outputs": [
        {
          "output_type": "stream",
          "text": [
            "Saída =  -1\n",
            "Pesos =  [ 2 -2  2  2]\n",
            "Bias =  -1\n",
            "\n",
            "\n",
            "Saída =  -1\n",
            "Pesos =  [ 2 -2  2  2]\n",
            "Bias =  -1\n"
          ],
          "name": "stdout"
        }
      ]
    },
    {
      "cell_type": "markdown",
      "metadata": {
        "id": "swfHMBsax_g8"
      },
      "source": [
        "## Iteração 2"
      ]
    },
    {
      "cell_type": "code",
      "metadata": {
        "colab": {
          "base_uri": "https://localhost:8080/"
        },
        "id": "A5G9ndamwvjM",
        "outputId": "633fec41-a50d-4bd7-a4fb-f79a750da638"
      },
      "source": [
        "# Entrada Cao saída +1\r\n",
        "d = 1 \r\n",
        "y = saida(Cao,Pesos) \r\n",
        "print('Saída = ',y)\r\n",
        "# Ajuste dos pesos \r\n",
        "Pesos,bias = ajustaPesos(eta,Pesos,Cao,bias,d,y) \r\n",
        "print('Pesos = ',Pesos)\r\n",
        "print('Bias = ',bias) \r\n",
        "\r\n",
        "print(f'\\n')\r\n",
        "\r\n",
        "# Entrada Homem saída -1\r\n",
        "d = -1 \r\n",
        "y = saida(Homem,Pesos) \r\n",
        "print('Saída = ',y)\r\n",
        "# Ajuste dos pesos \r\n",
        "Pesos,bias = ajustaPesos(eta,Pesos,Homem,bias,d,y) \r\n",
        "print('Pesos = ',Pesos)\r\n",
        "print('Bias = ',bias) "
      ],
      "execution_count": 8,
      "outputs": [
        {
          "output_type": "stream",
          "text": [
            "Saída =  1\n",
            "Pesos =  [ 2 -2  2  2]\n",
            "Bias =  -1\n",
            "\n",
            "\n",
            "Saída =  -1\n",
            "Pesos =  [ 2 -2  2  2]\n",
            "Bias =  -1\n"
          ],
          "name": "stdout"
        }
      ]
    },
    {
      "cell_type": "markdown",
      "metadata": {
        "id": "mACGt3OKyvlz"
      },
      "source": [
        "## Teste"
      ]
    },
    {
      "cell_type": "markdown",
      "metadata": {
        "id": "HQNFmG-SyzMM"
      },
      "source": [
        "* A que classe pertencem os padrões Gato, Cavalo, Galinha e Avestruz?"
      ]
    },
    {
      "cell_type": "code",
      "metadata": {
        "colab": {
          "base_uri": "https://localhost:8080/"
        },
        "id": "wMgZDMDVys2n",
        "outputId": "3d32c70a-0691-4a7a-ed1c-bd36d779c355"
      },
      "source": [
        "# Padrão Gato\r\n",
        "nome = 'Gato'\r\n",
        "T = np.array([1, 1, 1, 1]) \r\n",
        "print(\"Saida para \",nome,\" é \", saida(T,Pesos))\r\n",
        "print(f'Pesos: {Pesos}')\r\n",
        "print(f'Bias: {bias}')"
      ],
      "execution_count": 9,
      "outputs": [
        {
          "output_type": "stream",
          "text": [
            "Saida para  Gato  é  1\n",
            "Pesos: [ 2 -2  2  2]\n",
            "Bias: -1\n"
          ],
          "name": "stdout"
        }
      ]
    },
    {
      "cell_type": "code",
      "metadata": {
        "colab": {
          "base_uri": "https://localhost:8080/"
        },
        "id": "gYAiTU8Qzh4Y",
        "outputId": "4475e558-4cf7-47a2-a22e-33c1ac73d258"
      },
      "source": [
        "# Padrão Cavalo\r\n",
        "nome = 'Cavalo'\r\n",
        "T = np.array([1, 1, -1, 1]) \r\n",
        "print(\"Saida para \",nome,\" é \", saida(T,Pesos))\r\n",
        "print(f'Pesos: {Pesos}')\r\n",
        "print(f'Bias: {bias}')"
      ],
      "execution_count": 10,
      "outputs": [
        {
          "output_type": "stream",
          "text": [
            "Saida para  Cavalo  é  -1\n",
            "Pesos: [ 2 -2  2  2]\n",
            "Bias: -1\n"
          ],
          "name": "stdout"
        }
      ]
    },
    {
      "cell_type": "code",
      "metadata": {
        "colab": {
          "base_uri": "https://localhost:8080/"
        },
        "id": "qebRZXyr8uGw",
        "outputId": "2a62f192-2cab-42b2-9750-fe6fa5992712"
      },
      "source": [
        "# Padrão Galinha\r\n",
        "nome = 'Galinha'\r\n",
        "T = np.array([-1, 1, -1, 1]) \r\n",
        "print(\"Saida para \",nome,\" é \", saida(T,Pesos))\r\n",
        "print(f'Pesos: {Pesos}')\r\n",
        "print(f'Bias: {bias}')"
      ],
      "execution_count": 11,
      "outputs": [
        {
          "output_type": "stream",
          "text": [
            "Saida para  Galinha  é  -1\n",
            "Pesos: [ 2 -2  2  2]\n",
            "Bias: -1\n"
          ],
          "name": "stdout"
        }
      ]
    },
    {
      "cell_type": "code",
      "metadata": {
        "colab": {
          "base_uri": "https://localhost:8080/"
        },
        "id": "LfGlqDNg86cx",
        "outputId": "e88a535d-1374-4031-c1f5-ed57d4b2c6c4"
      },
      "source": [
        "# Padrão Avestruz\r\n",
        "nome = 'Avestruz'\r\n",
        "T = np.array([1, 1, -1, 1]) \r\n",
        "print(\"Saida para \",nome,\" é \", saida(T,Pesos))\r\n",
        "print(f'Pesos: {Pesos}')\r\n",
        "print(f'Bias: {bias}')"
      ],
      "execution_count": 12,
      "outputs": [
        {
          "output_type": "stream",
          "text": [
            "Saida para  Avestruz  é  -1\n",
            "Pesos: [ 2 -2  2  2]\n",
            "Bias: -1\n"
          ],
          "name": "stdout"
        }
      ]
    }
  ]
}